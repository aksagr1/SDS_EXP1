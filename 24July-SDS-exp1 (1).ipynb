{
 "cells": [
  {
   "cell_type": "code",
   "execution_count": 1,
   "id": "b2715b79-84c4-4da4-bbe7-60840409d964",
   "metadata": {},
   "outputs": [],
   "source": [
    "import pandas as pd\n",
    "import numpy as np\n",
    "import statistics as st"
   ]
  },
  {
   "cell_type": "code",
   "execution_count": 7,
   "id": "f76fa7a9-37e7-43d2-a3cb-f1a80231b50d",
   "metadata": {},
   "outputs": [],
   "source": [
    "df = pd.read_csv('Downloads/dataset_.csv')\n"
   ]
  },
  {
   "cell_type": "code",
   "execution_count": 9,
   "id": "8e918011-3ef3-43dc-bbd0-8b162f618e1e",
   "metadata": {},
   "outputs": [
    {
     "data": {
      "text/html": [
       "<div>\n",
       "<style scoped>\n",
       "    .dataframe tbody tr th:only-of-type {\n",
       "        vertical-align: middle;\n",
       "    }\n",
       "\n",
       "    .dataframe tbody tr th {\n",
       "        vertical-align: top;\n",
       "    }\n",
       "\n",
       "    .dataframe thead th {\n",
       "        text-align: right;\n",
       "    }\n",
       "</style>\n",
       "<table border=\"1\" class=\"dataframe\">\n",
       "  <thead>\n",
       "    <tr style=\"text-align: right;\">\n",
       "      <th></th>\n",
       "      <th>age</th>\n",
       "      <th>sex</th>\n",
       "      <th>bmi</th>\n",
       "      <th>children</th>\n",
       "      <th>smoker</th>\n",
       "      <th>region</th>\n",
       "      <th>medical charges</th>\n",
       "    </tr>\n",
       "  </thead>\n",
       "  <tbody>\n",
       "    <tr>\n",
       "      <th>0</th>\n",
       "      <td>19</td>\n",
       "      <td>female</td>\n",
       "      <td>27.900</td>\n",
       "      <td>0</td>\n",
       "      <td>yes</td>\n",
       "      <td>southwest</td>\n",
       "      <td>16884.92400</td>\n",
       "    </tr>\n",
       "    <tr>\n",
       "      <th>1</th>\n",
       "      <td>18</td>\n",
       "      <td>male</td>\n",
       "      <td>33.770</td>\n",
       "      <td>1</td>\n",
       "      <td>no</td>\n",
       "      <td>southeast</td>\n",
       "      <td>1725.55230</td>\n",
       "    </tr>\n",
       "    <tr>\n",
       "      <th>2</th>\n",
       "      <td>28</td>\n",
       "      <td>male</td>\n",
       "      <td>33.000</td>\n",
       "      <td>3</td>\n",
       "      <td>no</td>\n",
       "      <td>southeast</td>\n",
       "      <td>4449.46200</td>\n",
       "    </tr>\n",
       "    <tr>\n",
       "      <th>3</th>\n",
       "      <td>33</td>\n",
       "      <td>male</td>\n",
       "      <td>22.705</td>\n",
       "      <td>0</td>\n",
       "      <td>no</td>\n",
       "      <td>northwest</td>\n",
       "      <td>21984.47061</td>\n",
       "    </tr>\n",
       "    <tr>\n",
       "      <th>4</th>\n",
       "      <td>32</td>\n",
       "      <td>male</td>\n",
       "      <td>28.880</td>\n",
       "      <td>0</td>\n",
       "      <td>no</td>\n",
       "      <td>northwest</td>\n",
       "      <td>3866.85520</td>\n",
       "    </tr>\n",
       "  </tbody>\n",
       "</table>\n",
       "</div>"
      ],
      "text/plain": [
       "   age     sex     bmi  children smoker     region  medical charges\n",
       "0   19  female  27.900         0    yes  southwest      16884.92400\n",
       "1   18    male  33.770         1     no  southeast       1725.55230\n",
       "2   28    male  33.000         3     no  southeast       4449.46200\n",
       "3   33    male  22.705         0     no  northwest      21984.47061\n",
       "4   32    male  28.880         0     no  northwest       3866.85520"
      ]
     },
     "execution_count": 9,
     "metadata": {},
     "output_type": "execute_result"
    }
   ],
   "source": [
    "df.head()\n"
   ]
  },
  {
   "cell_type": "code",
   "execution_count": 17,
   "id": "c649b5c8-682b-4964-b7cd-8e2f9f18fbb9",
   "metadata": {},
   "outputs": [
    {
     "data": {
      "text/plain": [
       "30.66339686098655"
      ]
     },
     "execution_count": 17,
     "metadata": {},
     "output_type": "execute_result"
    }
   ],
   "source": [
    "bmi_mean = df['bmi'].mean()\n",
    "bmi_mean"
   ]
  },
  {
   "cell_type": "code",
   "execution_count": 19,
   "id": "afaaf3fd-8576-4d9a-af24-f05f7ad146ff",
   "metadata": {},
   "outputs": [],
   "source": [
    "df_100 = df.head(100)"
   ]
  },
  {
   "cell_type": "code",
   "execution_count": 21,
   "id": "078a3d9d-cf99-439c-a3bf-4374814fcc83",
   "metadata": {},
   "outputs": [],
   "source": [
    "bmi = df['bmi']"
   ]
  },
  {
   "cell_type": "code",
   "execution_count": 23,
   "id": "c5326afb-fe4c-494d-a32f-4b489ca7a951",
   "metadata": {},
   "outputs": [
    {
     "data": {
      "text/plain": [
       "0       27.900\n",
       "1       33.770\n",
       "2       33.000\n",
       "3       22.705\n",
       "4       28.880\n",
       "         ...  \n",
       "1333    30.970\n",
       "1334    31.920\n",
       "1335    36.850\n",
       "1336    25.800\n",
       "1337    29.070\n",
       "Name: bmi, Length: 1338, dtype: float64"
      ]
     },
     "execution_count": 23,
     "metadata": {},
     "output_type": "execute_result"
    }
   ],
   "source": [
    "bmi"
   ]
  },
  {
   "cell_type": "code",
   "execution_count": 48,
   "id": "168c306f-9673-4ff8-990d-50f0b97b0580",
   "metadata": {},
   "outputs": [
    {
     "data": {
      "text/plain": [
       "30.66339686098655"
      ]
     },
     "execution_count": 48,
     "metadata": {},
     "output_type": "execute_result"
    }
   ],
   "source": [
    "mean = np.mean(bmi)\n",
    "np.mean(bmi)"
   ]
  },
  {
   "cell_type": "code",
   "execution_count": null,
   "id": "a750b964-17b4-40da-b19e-258dcfa2e4ab",
   "metadata": {},
   "outputs": [],
   "source": [
    "bmi = sorted(bmi)\n",
    "bmi"
   ]
  },
  {
   "cell_type": "code",
   "execution_count": 35,
   "id": "c9696a6f-89a2-4dd8-9be2-77534e33e1f2",
   "metadata": {},
   "outputs": [
    {
     "data": {
      "text/plain": [
       "30.4"
      ]
     },
     "execution_count": 35,
     "metadata": {},
     "output_type": "execute_result"
    }
   ],
   "source": [
    "np.median(bmi)"
   ]
  },
  {
   "cell_type": "code",
   "execution_count": 37,
   "id": "ab00ed56-12cb-419c-8ce9-02a4a655e415",
   "metadata": {},
   "outputs": [
    {
     "data": {
      "text/plain": [
       "32.3"
      ]
     },
     "execution_count": 37,
     "metadata": {},
     "output_type": "execute_result"
    }
   ],
   "source": [
    "st.mode(bmi)"
   ]
  },
  {
   "cell_type": "code",
   "execution_count": 41,
   "id": "b7b91c0c-cef2-43b8-84ac-e3d2e6e1d138",
   "metadata": {},
   "outputs": [
    {
     "data": {
      "text/plain": [
       "37.18788360977324"
      ]
     },
     "execution_count": 41,
     "metadata": {},
     "output_type": "execute_result"
    }
   ],
   "source": [
    "st.variance(bmi)"
   ]
  },
  {
   "cell_type": "code",
   "execution_count": 45,
   "id": "77278d43-b08c-46fb-ae0a-a99e2512be79",
   "metadata": {},
   "outputs": [
    {
     "data": {
      "text/plain": [
       "6.098186911679014"
      ]
     },
     "execution_count": 45,
     "metadata": {},
     "output_type": "execute_result"
    }
   ],
   "source": [
    "st.stdev(bmi)"
   ]
  },
  {
   "cell_type": "code",
   "execution_count": 59,
   "id": "e83ea454-eac4-47df-a875-b41e11e18c3c",
   "metadata": {},
   "outputs": [],
   "source": [
    "def stats(filepath: str, column_name: str):\n",
    "    df = pd.read_csv(filepath)\n",
    "    if column_name not in df.columns:\n",
    "        raise ValueError(f\"Column '{column_name}' does not exist in the DataFrame.\")\n",
    "    \n",
    "    data = df[column_name]\n",
    "    \n",
    "    mean_value = np.mean(data)\n",
    "    median_value = np.median(data)\n",
    "    mode_value = st.mode(data)\n",
    "    variance_value = st.variance(data)\n",
    "    stdev_value = st.stdev(data)\n",
    "    \n",
    "    return {\n",
    "        'mean': mean_value,\n",
    "        'median': median_value,\n",
    "        'mode': mode_value,\n",
    "        'variance': variance_value,\n",
    "        'standard_deviation': stdev_value\n",
    "    }\n"
   ]
  },
  {
   "cell_type": "code",
   "execution_count": 73,
   "id": "2ad49f5b-c5f0-4977-90f0-acf27f908289",
   "metadata": {},
   "outputs": [
    {
     "name": "stdout",
     "output_type": "stream",
     "text": [
      "{'mean': 66.089, 'median': 66.0, 'mode': 65, 'variance': 229.918997997998, 'standard_deviation': 15.163080096009452}\n"
     ]
    }
   ],
   "source": [
    "filepath = 'C:/Users/Hp/Desktop/StudentsPerformance1.csv'\n",
    "s_stats = stats(filepath, 'maths')\n",
    "print(s_stats)"
   ]
  },
  {
   "cell_type": "code",
   "execution_count": null,
   "id": "343c80ef-69b1-48fa-8245-c4fb049375bb",
   "metadata": {},
   "outputs": [],
   "source": [
    "df2 = pd.read_csv('Downloads/dataset_.csv')\n"
   ]
  }
 ],
 "metadata": {
  "kernelspec": {
   "display_name": "Python 3 (ipykernel)",
   "language": "python",
   "name": "python3"
  },
  "language_info": {
   "codemirror_mode": {
    "name": "ipython",
    "version": 3
   },
   "file_extension": ".py",
   "mimetype": "text/x-python",
   "name": "python",
   "nbconvert_exporter": "python",
   "pygments_lexer": "ipython3",
   "version": "3.12.4"
  }
 },
 "nbformat": 4,
 "nbformat_minor": 5
}
